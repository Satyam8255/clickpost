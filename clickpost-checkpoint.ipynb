{
 "cells": [
  {
   "cell_type": "code",
   "execution_count": 78,
   "id": "5020d484-01b8-49f0-a81e-222ebdf610fd",
   "metadata": {},
   "outputs": [
    {
     "name": "stdout",
     "output_type": "stream",
     "text": [
      "Requirement already satisfied: scikit-learn in c:\\users\\satyam\\anaconda3\\lib\\site-packages (1.4.2)\n",
      "Requirement already satisfied: numpy>=1.19.5 in c:\\users\\satyam\\anaconda3\\lib\\site-packages (from scikit-learn) (1.26.4)\n",
      "Requirement already satisfied: scipy>=1.6.0 in c:\\users\\satyam\\anaconda3\\lib\\site-packages (from scikit-learn) (1.13.1)\n",
      "Requirement already satisfied: joblib>=1.2.0 in c:\\users\\satyam\\anaconda3\\lib\\site-packages (from scikit-learn) (1.4.2)\n",
      "Requirement already satisfied: threadpoolctl>=2.0.0 in c:\\users\\satyam\\anaconda3\\lib\\site-packages (from scikit-learn) (2.2.0)\n"
     ]
    }
   ],
   "source": [
    "!pip install scikit-learn"
   ]
  },
  {
   "cell_type": "code",
   "execution_count": 79,
   "id": "9e8b0c8b-4a84-47d3-84a0-d469650b3439",
   "metadata": {},
   "outputs": [],
   "source": [
    "import pandas as pd\n",
    "import numpy as np\n",
    "from sklearn.model_selection import train_test_split\n",
    "from sklearn.ensemble import RandomForestRegressor\n",
    "from sklearn.metrics import mean_squared_error"
   ]
  },
  {
   "cell_type": "code",
   "execution_count": 80,
   "id": "edae07e8-15eb-4d45-ad2c-467ca4feb134",
   "metadata": {},
   "outputs": [],
   "source": [
    "train = pd.read_csv('C:/Users/SATYAM/Downloads/Data Scientist Assignment/Lead Data Scientist Assignment/train_.csv')\n",
    "test = pd.read_csv('C:/Users/SATYAM/Downloads/Data Scientist Assignment/Lead Data Scientist Assignment/test_.csv')\n",
    "pincodes = pd.read_csv('C:/Users/SATYAM/Downloads/Data Scientist Assignment/Lead Data Scientist Assignment/pincodes.csv', low_memory=False)\n",
    "\n",
    "\n",
    "\n",
    "    "
   ]
  },
  {
   "cell_type": "code",
   "execution_count": 83,
   "id": "d9936d5e-f241-427f-a563-2f1c2f6a86ac",
   "metadata": {},
   "outputs": [],
   "source": [
    "train['order_delivered_date'] = pd.to_datetime(train['order_delivered_date'], format='%d/%m/%Y')\n",
    "train['order_shipped_date'] = pd.to_datetime(train['order_shipped_date'], format='%d/%m/%Y')\n",
    "test['order_shipped_date'] = pd.to_datetime(test['order_shipped_date'], format='mixed')\n"
   ]
  },
  {
   "cell_type": "code",
   "execution_count": 22,
   "id": "6dbc838d-47de-4cfe-ad08-fdc03c7e8ddd",
   "metadata": {},
   "outputs": [
    {
     "name": "stdout",
     "output_type": "stream",
     "text": [
      "Variable                Type         Data/Info\n",
      "----------------------------------------------\n",
      "RandomForestRegressor   ABCMeta      <class 'sklearn.ensemble.<...>t.RandomForestRegressor'>\n",
      "dataframe_columns       function     <function dataframe_colum<...>ns at 0x000001831003B100>\n",
      "dataframe_hash          function     <function dataframe_hash at 0x00000183110723E0>\n",
      "dtypes_str              function     <function dtypes_str at 0x0000018311073100>\n",
      "get_dataframes          function     <function get_dataframes at 0x0000018311073880>\n",
      "getpass                 module       <module 'getpass' from 'C<...>conda3\\\\Lib\\\\getpass.py'>\n",
      "hashlib                 module       <module 'hashlib' from 'C<...>conda3\\\\Lib\\\\hashlib.py'>\n",
      "import_pandas_safely    function     <function import_pandas_s<...>ly at 0x000001831427B100>\n",
      "is_data_frame           function     <function is_data_frame at 0x0000018311072DE0>\n",
      "json                    module       <module 'json' from 'C:\\\\<...>\\Lib\\\\json\\\\__init__.py'>\n",
      "mean_squared_error      function     <function mean_squared_er<...>or at 0x0000018312D6F9C0>\n",
      "np                      module       <module 'numpy' from 'C:\\<...>ges\\\\numpy\\\\__init__.py'>\n",
      "pd                      module       <module 'pandas' from 'C:<...>es\\\\pandas\\\\__init__.py'>\n",
      "pincodes                DataFrame                       Circle<...>157126 rows x 11 columns]\n",
      "test                    DataFrame                   id  courie<...>[399845 rows x 8 columns]\n",
      "train                   DataFrame                    id order_<...>048575 rows x 10 columns]\n",
      "train_test_split        function     <function train_test_split at 0x0000018312DC54E0>\n"
     ]
    }
   ],
   "source": [
    "%whos\n"
   ]
  },
  {
   "cell_type": "code",
   "execution_count": 74,
   "id": "91315350-8619-499c-a2d2-02099ae88838",
   "metadata": {},
   "outputs": [
    {
     "name": "stdout",
     "output_type": "stream",
     "text": [
      "          id order_delivered_date  courier_partner_id order_shipped_date  \\\n",
      "0  349197554           05/06/2022                   9         02/06/2022   \n",
      "1  349197557           04/06/2022                   9         02/06/2022   \n",
      "2  349197560           07/06/2022                   9         02/06/2022   \n",
      "3  349197565           05/06/2022                   9         02/06/2022   \n",
      "4  349197568           07/06/2022                   9         02/06/2022   \n",
      "\n",
      "   account_type_id  drop_pin_code  pickup_pin_code  quantity account_mode  \\\n",
      "0             2471         141007           421311         1          Air   \n",
      "1             2471         411047           421311         1          Air   \n",
      "2             2471         145029           421311         1          Air   \n",
      "3             2471         751015           562123         1          Air   \n",
      "4             2471         145029           421311         1          Air   \n",
      "\n",
      "   order_delivery_sla  \n",
      "0                   3  \n",
      "1                   2  \n",
      "2                   5  \n",
      "3                   3  \n",
      "4                   5  \n",
      "Index(['id', 'order_delivered_date', 'courier_partner_id',\n",
      "       'order_shipped_date', 'account_type_id', 'drop_pin_code',\n",
      "       'pickup_pin_code', 'quantity', 'account_mode', 'order_delivery_sla'],\n",
      "      dtype='object')\n"
     ]
    }
   ],
   "source": [
    "print(train.head())\n",
    "print(train.columns)\n"
   ]
  },
  {
   "cell_type": "code",
   "execution_count": 86,
   "id": "2acf0458-41aa-4ff5-a47e-47f9113610da",
   "metadata": {},
   "outputs": [
    {
     "name": "stdout",
     "output_type": "stream",
     "text": [
      "Index(['id', 'order_delivered_date', 'courier_partner_id',\n",
      "       'order_shipped_date', 'account_type_id', 'drop_pin_code',\n",
      "       'pickup_pin_code', 'quantity', 'account_mode', 'order_delivery_sla',\n",
      "       'predicted_exact_sla'],\n",
      "      dtype='object')\n"
     ]
    }
   ],
   "source": [
    "train['predicted_exact_sla'] = (train['order_delivered_date'] - train['order_shipped_date']).dt.days\n",
    "print(train.columns)\n",
    "\n"
   ]
  },
  {
   "cell_type": "code",
   "execution_count": 88,
   "id": "5deb59e1-b428-48f4-a0e6-0e7e5324a482",
   "metadata": {},
   "outputs": [],
   "source": [
    "train['month'] = train['order_shipped_date'].dt.month\n",
    "train['day'] = train['order_shipped_date'].dt.day\n",
    "train['weekday'] = train['order_shipped_date'].dt.dayofweek\n",
    "\n",
    "test['month'] = test['order_shipped_date'].dt.month\n",
    "test['day'] = test['order_shipped_date'].dt.day\n",
    "test['weekday'] = test['order_shipped_date'].dt.dayofweek\n"
   ]
  },
  {
   "cell_type": "code",
   "execution_count": 90,
   "id": "73434fb5-cab4-401b-b812-78ce312f2276",
   "metadata": {},
   "outputs": [
    {
     "name": "stdout",
     "output_type": "stream",
     "text": [
      "Index(['CircleName', 'RegionName', 'DivisionName', 'OfficeName', 'Pincode',\n",
      "       'OfficeType', 'Delivery', 'District', 'StateName', 'Latitude',\n",
      "       'Longitude'],\n",
      "      dtype='object')\n"
     ]
    }
   ],
   "source": [
    "print(pincodes.columns)\n"
   ]
  },
  {
   "cell_type": "code",
   "execution_count": 92,
   "id": "707c738d-967c-442b-b466-a7595e489337",
   "metadata": {},
   "outputs": [],
   "source": [
    "train = train.merge(pincodes, left_on='pickup_pin_code', right_on='Pincode', how='left')\n",
    "train = train.rename(columns={\n",
    "    'StateName': 'pickup_state',\n",
    "    'RegionName': 'pickup_region',\n",
    "    'DivisionName': 'pickup_division'\n",
    "})\n",
    "\n",
    "test = test.merge(pincodes, left_on='pickup_pin_code', right_on='Pincode', how='left')\n",
    "test = test.rename(columns={\n",
    "    'StateName': 'pickup_state',\n",
    "    'RegionName': 'pickup_region',\n",
    "    'DivisionName': 'pickup_division'\n",
    "})\n"
   ]
  },
  {
   "cell_type": "code",
   "execution_count": 97,
   "id": "0a595fa8-f4e7-4ab2-9d9b-77d6578730ea",
   "metadata": {},
   "outputs": [
    {
     "name": "stdout",
     "output_type": "stream",
     "text": [
      "Index(['id', 'order_delivered_date', 'courier_partner_id',\n",
      "       'order_shipped_date', 'account_type_id', 'drop_pin_code',\n",
      "       'pickup_pin_code', 'quantity', 'account_mode', 'order_delivery_sla',\n",
      "       'predicted_exact_sla', 'month', 'day', 'weekday', 'CircleName',\n",
      "       'pickup_region', 'pickup_division', 'OfficeName', 'Pincode',\n",
      "       'OfficeType', 'Delivery', 'District', 'pickup_state', 'Latitude',\n",
      "       'Longitude'],\n",
      "      dtype='object')\n"
     ]
    }
   ],
   "source": [
    "print(train.columns)\n"
   ]
  },
  {
   "cell_type": "code",
   "execution_count": null,
   "id": "76e89105-836f-48cb-82b9-2fc8eb06cfb0",
   "metadata": {},
   "outputs": [],
   "source": [
    "# Merge the pincodes DataFrame on drop_pin_code to get the drop_state\n",
    "train = train.merge(pincodes[['Pincode', 'StateName']], left_on='drop_pin_code', right_on='Pincode', how='left')\n",
    "train = train.rename(columns={'StateName': 'drop_state'})\n",
    "\n",
    "test = test.merge(pincodes[['Pincode', 'StateName']], left_on='drop_pin_code', right_on='Pincode', how='left')\n",
    "test = test.rename(columns={'StateName': 'drop_state'})\n",
    "\n",
    "# Now, compare pickup_state with drop_state\n",
    "train['same_state'] = (train['pickup_state'] == train['drop_state']).astype(int)\n",
    "test['same_state'] = (test['pickup_state'] == test['drop_state']).astype(int)\n",
    "\n",
    "\n",
    "\n"
   ]
  },
  {
   "cell_type": "code",
   "execution_count": null,
   "id": "e9fd6e88-6aa6-4421-85e6-b1f93b4a2626",
   "metadata": {},
   "outputs": [],
   "source": [
    "# Only select relevant columns from the pincodes DataFrame\n",
    "pincodes = pincodes[['Pincode', 'StateName']]\n",
    "\n",
    "# Ensure 'train' and 'test' datasets have only the necessary columns\n",
    "train_subset = train[['drop_pin_code', 'id']]  # Example, only keeping drop_pin_code and id\n",
    "test_subset = test[['drop_pin_code', 'id']]  # Example, only keeping drop_pin_code and id\n",
    "\n",
    "# Perform the merge operation on the subset\n",
    "train_merged = train_subset.merge(pincodes, left_on='drop_pin_code', right_on='Pincode', how='left')\n",
    "train_merged = train_merged.rename(columns={'StateName': 'drop_state'})\n",
    "\n",
    "# Apply the same for the test dataset if necessary\n",
    "test_merged = test_subset.merge(pincodes, left_on='drop_pin_code', right_on='Pincode', how='left')\n",
    "test_merged = test_merged.rename(columns={'StateName': 'drop_state'})\n",
    "\n",
    "# Now, merge back the necessary columns for further processing\n",
    "train = pd.concat([train, train_merged[['drop_state']]], axis=1)\n",
    "test = pd.concat([test, test_merged[['drop_state']]], axis=1)\n",
    "\n",
    "# Continue with your usual workflow...\n"
   ]
  },
  {
   "cell_type": "code",
   "execution_count": 66,
   "id": "80ba8e0f-7955-43a8-a75b-356b7306f30f",
   "metadata": {},
   "outputs": [
    {
     "name": "stdout",
     "output_type": "stream",
     "text": [
      "Index(['id', 'order_delivered_date', 'courier_partner_id',\n",
      "       'order_shipped_date', 'account_type_id', 'drop_pin_code',\n",
      "       'pickup_pin_code', 'quantity', 'account_mode', 'order_delivery_sla'],\n",
      "      dtype='object')\n"
     ]
    }
   ],
   "source": [
    "print(train.columns)\n"
   ]
  },
  {
   "cell_type": "code",
   "execution_count": 118,
   "id": "88d3b10a-5fe5-48f0-89a8-0f5f0a39364a",
   "metadata": {},
   "outputs": [],
   "source": [
    "features = [\n",
    "    'month', 'day', 'weekday', 'quantity', \n",
    "    'order_delivery_sla', \n",
    "    'pickup_pin_code', 'drop_pin_code',\n",
    "    'pickup_state', 'pickup_region', 'pickup_division'\n",
    "]\n",
    "\n",
    "\n"
   ]
  },
  {
   "cell_type": "code",
   "execution_count": 120,
   "id": "06e3e936-3087-476c-9646-9acf8c83e1cc",
   "metadata": {},
   "outputs": [
    {
     "name": "stdout",
     "output_type": "stream",
     "text": [
      "Index(['id', 'order_delivered_date', 'courier_partner_id',\n",
      "       'order_shipped_date', 'account_type_id', 'drop_pin_code',\n",
      "       'pickup_pin_code', 'quantity', 'account_mode', 'order_delivery_sla',\n",
      "       'predicted_exact_sla', 'month', 'day', 'weekday', 'CircleName',\n",
      "       'pickup_region', 'pickup_division', 'OfficeName', 'Pincode',\n",
      "       'OfficeType', 'Delivery', 'District', 'pickup_state', 'Latitude',\n",
      "       'Longitude'],\n",
      "      dtype='object')\n"
     ]
    }
   ],
   "source": [
    "print(train.columns)\n"
   ]
  },
  {
   "cell_type": "code",
   "execution_count": 122,
   "id": "0dbcf21f-f076-4aa1-ac06-90453aac8a7f",
   "metadata": {},
   "outputs": [],
   "source": [
    "# Prepare data for modeling\n",
    "X = train[features]\n",
    "y = train['predicted_exact_sla']"
   ]
  },
  {
   "cell_type": "code",
   "execution_count": 102,
   "id": "8b67cfbe-2678-4356-9b98-80fd66adb004",
   "metadata": {},
   "outputs": [],
   "source": [
    "\n",
    "# Fill any missing values with -1\n",
    "X = X.fillna(-1)\n"
   ]
  },
  {
   "cell_type": "code",
   "execution_count": 114,
   "id": "43e670c7-8e44-4dd3-8826-017d4433e800",
   "metadata": {},
   "outputs": [],
   "source": [
    "X_train, X_test, y_train, y_test = train_test_split(X, y, test_size=0.2, random_state=42)"
   ]
  },
  {
   "cell_type": "code",
   "execution_count": 124,
   "id": "91485aeb-20c5-4638-83ef-09e643c25ce9",
   "metadata": {},
   "outputs": [
    {
     "name": "stdout",
     "output_type": "stream",
     "text": [
      "Index(['month', 'day', 'weekday', 'quantity', 'order_delivery_sla',\n",
      "       'pickup_pin_code', 'drop_pin_code', 'pickup_state', 'pickup_region',\n",
      "       'pickup_division'],\n",
      "      dtype='object')\n"
     ]
    }
   ],
   "source": [
    "print(X_train.columns)\n"
   ]
  },
  {
   "cell_type": "code",
   "execution_count": 128,
   "id": "80e25727-bc2a-42d6-ae7e-5432f7bd5035",
   "metadata": {},
   "outputs": [],
   "source": [
    "from sklearn.preprocessing import LabelEncoder\n",
    "\n",
    "# Initialize the label encoder\n",
    "label_encoder = LabelEncoder()\n",
    "\n",
    "# Apply label encoding to the 'pickup_state' column\n",
    "X_train['pickup_state'] = label_encoder.fit_transform(X_train['pickup_state'])\n",
    "\n"
   ]
  },
  {
   "cell_type": "code",
   "execution_count": 139,
   "id": "1aea4284-43c1-42b8-8bab-eac01f7286d6",
   "metadata": {},
   "outputs": [],
   "source": [
    "X_test['pickup_state'] = label_encoder.fit_transform(X_test['pickup_state'])\n"
   ]
  },
  {
   "cell_type": "code",
   "execution_count": 141,
   "id": "f706f357-b8e4-4685-9b48-46d9171389a8",
   "metadata": {},
   "outputs": [],
   "source": [
    "# Apply One-Hot Encoding to categorical columns\n",
    "X_train = pd.get_dummies(X_train, drop_first=True)\n"
   ]
  },
  {
   "cell_type": "code",
   "execution_count": null,
   "id": "83be7b69-36db-4dc2-8ecc-9903d975d2da",
   "metadata": {},
   "outputs": [],
   "source": [
    "# Train Random Forest model\n",
    "rf_model = RandomForestRegressor(n_estimators=100, random_state=42)\n",
    "rf_model.fit(X_train, y_train)"
   ]
  },
  {
   "cell_type": "code",
   "execution_count": null,
   "id": "54ab37dc-5de4-4723-ac6a-37267ddecdf1",
   "metadata": {},
   "outputs": [],
   "source": [
    "# Make predictions on test set\n",
    "predictions = rf_model.predict(X_test)"
   ]
  },
  {
   "cell_type": "code",
   "execution_count": null,
   "id": "0798caf2-b9a3-4e5a-8de0-039b5113e2c4",
   "metadata": {},
   "outputs": [],
   "source": [
    "# Calculate MSE and RMSE\n",
    "mse = mean_squared_error(y_test, predictions)\n",
    "rmse = np.sqrt(mse)\n",
    "\n",
    "print(f\"Mean Squared Error: {mse:.2f}\")\n",
    "print(f\"Root Mean Squared Error: {rmse:.2f}\")\n"
   ]
  },
  {
   "cell_type": "code",
   "execution_count": null,
   "id": "a0f55c8b-baea-4746-acac-fe03543c430b",
   "metadata": {},
   "outputs": [],
   "source": [
    "# Prepare test data\n",
    "test_features = test[features].fillna(-1)\n",
    "\n",
    "# Make predictions on the actual test data\n",
    "test_predictions = rf_model.predict(test_features)"
   ]
  },
  {
   "cell_type": "code",
   "execution_count": null,
   "id": "e013310c-1c05-4c18-ada3-e1045b19e611",
   "metadata": {},
   "outputs": [],
   "source": [
    "# Create submission file\n",
    "submission = pd.DataFrame({\n",
    "    'id': test['id'],\n",
    "    'predicted_exact_sla': test_predictions.round(2)\n",
    "})\n",
    "\n",
    "\n"
   ]
  },
  {
   "cell_type": "code",
   "execution_count": null,
   "id": "a995cff0-bfac-4274-a05d-25fa982ac713",
   "metadata": {},
   "outputs": [],
   "source": [
    "# Save the submission file\n",
    "submission.to_csv('submission.csv', index=False)\n"
   ]
  },
  {
   "cell_type": "code",
   "execution_count": null,
   "id": "358e7965-d644-4bd8-bab8-7ab2b7982adf",
   "metadata": {},
   "outputs": [],
   "source": [
    "# Print feature importance\n",
    "feature_importance = pd.DataFrame({\n",
    "    'Feature': features,\n",
    "    'Importance': rf_model.feature_importances_\n",
    "})"
   ]
  },
  {
   "cell_type": "code",
   "execution_count": null,
   "id": "6033e5a3-94bd-4aec-9da8-120ffbe7de80",
   "metadata": {},
   "outputs": [],
   "source": []
  }
 ],
 "metadata": {
  "kernelspec": {
   "display_name": "Python 3 (ipykernel)",
   "language": "python",
   "name": "python3"
  },
  "language_info": {
   "codemirror_mode": {
    "name": "ipython",
    "version": 3
   },
   "file_extension": ".py",
   "mimetype": "text/x-python",
   "name": "python",
   "nbconvert_exporter": "python",
   "pygments_lexer": "ipython3",
   "version": "3.12.4"
  }
 },
 "nbformat": 4,
 "nbformat_minor": 5
}
